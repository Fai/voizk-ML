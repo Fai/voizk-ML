{
 "cells": [
  {
   "cell_type": "code",
   "execution_count": 4,
   "id": "a555b2ed-1aab-44e5-88b2-d6201460a0a5",
   "metadata": {},
   "outputs": [],
   "source": [
    "# Download necessary text files\n",
    "base_url = \"https://www.robots.ox.ac.uk/~vgg/data/voxceleb/meta\"\n",
    "txt_url = f\"{base_url}/vox1_dev_wav.zip\"\n",
    "test_url = f\"{base_url}/vox1_test_wav.zip\""
   ]
  },
  {
   "cell_type": "code",
   "execution_count": 5,
   "id": "2c326608-5c66-4353-bc48-3233806844ec",
   "metadata": {},
   "outputs": [
    {
     "name": "stderr",
     "output_type": "stream",
     "text": [
      "--2024-11-05 00:35:13--  https://www.robots.ox.ac.uk/~vgg/data/voxceleb/meta/vox1_dev_wav.zip\n",
      "Resolving www.robots.ox.ac.uk (www.robots.ox.ac.uk)... 129.67.94.2\n",
      "Connecting to www.robots.ox.ac.uk (www.robots.ox.ac.uk)|129.67.94.2|:443... connected.\n",
      "HTTP request sent, awaiting response... 404 Not Found\n",
      "2024-11-05 00:35:14 ERROR 404: Not Found.\n",
      "\n",
      "--2024-11-05 00:35:14--  https://www.robots.ox.ac.uk/~vgg/data/voxceleb/meta/vox1_test_wav.zip\n",
      "Resolving www.robots.ox.ac.uk (www.robots.ox.ac.uk)... 129.67.94.2\n",
      "Connecting to www.robots.ox.ac.uk (www.robots.ox.ac.uk)|129.67.94.2|:443... "
     ]
    },
    {
     "name": "stdout",
     "output_type": "stream",
     "text": [
      "Error downloading https://www.robots.ox.ac.uk/~vgg/data/voxceleb/meta/vox1_dev_wav.zip: Command '['wget', 'https://www.robots.ox.ac.uk/~vgg/data/voxceleb/meta/vox1_dev_wav.zip']' returned non-zero exit status 8.\n",
      "Skipping audio file download.\n"
     ]
    },
    {
     "name": "stderr",
     "output_type": "stream",
     "text": [
      "connected.\n",
      "HTTP request sent, awaiting response... "
     ]
    },
    {
     "name": "stdout",
     "output_type": "stream",
     "text": [
      "Error downloading https://www.robots.ox.ac.uk/~vgg/data/voxceleb/meta/vox1_test_wav.zip: Command '['wget', 'https://www.robots.ox.ac.uk/~vgg/data/voxceleb/meta/vox1_test_wav.zip']' returned non-zero exit status 8.\n",
      "Skipping audio file download.\n"
     ]
    },
    {
     "name": "stderr",
     "output_type": "stream",
     "text": [
      "404 Not Found\n",
      "2024-11-05 00:35:15 ERROR 404: Not Found.\n",
      "\n"
     ]
    }
   ],
   "source": [
    "# First cell - Imports and setup\n",
    "import os\n",
    "import subprocess\n",
    "import argparse\n",
    "from tqdm import tqdm\n",
    "\n",
    "# Second cell - Main function definition\n",
    "def download_voxceleb(output_dir, dataset=\"vox1\"):\n",
    "    \"\"\"\n",
    "    Downloads the VoxCeleb dataset\n",
    "    \n",
    "    Args:\n",
    "        output_dir (str): Directory to save the dataset\n",
    "        dataset (str): Dataset version ('vox1' or 'vox2')\n",
    "    \"\"\"\n",
    "    # Create directory if it doesn't exist\n",
    "    os.makedirs(output_dir, exist_ok=True)\n",
    "    \n",
    "    # Download necessary text files\n",
    "    base_url = \"https://www.robots.ox.ac.uk/~vgg/data/voxceleb/meta\"\n",
    "    if dataset == \"vox1\":\n",
    "        txt_url = f\"{base_url}/vox1_dev_wav.zip\"\n",
    "        test_url = f\"{base_url}/vox1_test_wav.zip\"\n",
    "    else:\n",
    "        txt_url = f\"{base_url}/vox2_dev_aac.zip\"\n",
    "        test_url = f\"{base_url}/vox2_test_aac.zip\"\n",
    "    \n",
    "    # Download and extract audio files\n",
    "    for url in [txt_url, test_url]:\n",
    "        try:\n",
    "            subprocess.run(['wget', url], check=True)\n",
    "            subprocess.run(['unzip', url.split('/')[-1]], check=True)\n",
    "        except subprocess.CalledProcessError as e:\n",
    "            print(f\"Error downloading {url}: {e}\")\n",
    "            print(\"Skipping audio file download.\")\n",
    "\n",
    "# Third cell - Usage example\n",
    "# Set parameters\n",
    "output_directory = \"./voxceleb_data\"  # Change this to your desired directory\n",
    "dataset_version = \"vox1\"  # or \"vox2\"\n",
    "\n",
    "# Run the download\n",
    "download_voxceleb(output_directory, dataset_version)\n"
   ]
  },
  {
   "cell_type": "code",
   "execution_count": null,
   "id": "ab6bd59a-7d48-43b2-b69b-e9ccda9d2b6f",
   "metadata": {},
   "outputs": [],
   "source": []
  }
 ],
 "metadata": {
  "kernelspec": {
   "display_name": "Python 3 (ipykernel)",
   "language": "python",
   "name": "python3"
  },
  "language_info": {
   "codemirror_mode": {
    "name": "ipython",
    "version": 3
   },
   "file_extension": ".py",
   "mimetype": "text/x-python",
   "name": "python",
   "nbconvert_exporter": "python",
   "pygments_lexer": "ipython3",
   "version": "3.10.8"
  }
 },
 "nbformat": 4,
 "nbformat_minor": 5
}
